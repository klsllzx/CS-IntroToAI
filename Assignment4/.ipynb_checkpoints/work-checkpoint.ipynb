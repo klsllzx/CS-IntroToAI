{
 "cells": [
  {
   "cell_type": "code",
   "execution_count": 18,
   "metadata": {},
   "outputs": [],
   "source": [
    "import numpy as np\n",
    "import PIL\n",
    "from PIL import Image\n",
    "import os"
   ]
  },
  {
   "cell_type": "code",
   "execution_count": 19,
   "metadata": {},
   "outputs": [],
   "source": [
    "def load_resize(size,path):##\"dataset/forest\" to specific directory\n",
    "    resize_pics=[] #<class 'PIL.Image.Image'> list\n",
    "    for root,dirs,files in os.walk(path):\n",
    "        for file in files:\n",
    "            route=root+\"/\"+file\n",
    "\n",
    "            #print(route)\n",
    "            image=Image.open(route)\n",
    "#             display(image)\n",
    "            img = image.resize((size,size), PIL.Image.ANTIALIAS)\n",
    "            \n",
    "            resize_pics.append(img)\n",
    "    return resize_pics #<class 'PIL.Image.Image'> list\n",
    "    "
   ]
  },
  {
   "cell_type": "code",
   "execution_count": 20,
   "metadata": {},
   "outputs": [],
   "source": [
    "resize_pics=load_resize(64,\"dataset/forest\")"
   ]
  },
  {
   "cell_type": "code",
   "execution_count": 21,
   "metadata": {},
   "outputs": [],
   "source": [
    "def convert_to_gray(resize_pics):\n",
    "    gray_pics=[]\n",
    "    for pic in resize_pics:\n",
    "        gray=pic.convert(\"L\")\n",
    "#         display(gray)\n",
    "        gray_pics.append(gray)\n",
    "    return gray_pics"
   ]
  },
  {
   "cell_type": "code",
   "execution_count": 22,
   "metadata": {},
   "outputs": [],
   "source": [
    "gray_pics=convert_to_gray(resize_pics)"
   ]
  },
  {
   "cell_type": "code",
   "execution_count": 24,
   "metadata": {},
   "outputs": [],
   "source": [
    "def rgb_pics_to_ndarray(resize_pics):\n",
    "    rgb_pixs=[]\n",
    "    for pic in resize_pics:\n",
    "        pix=np.asarray(pic)\n",
    "        rgb_pixs.append(pix)\n",
    "    return rgb_pixs"
   ]
  },
  {
   "cell_type": "code",
   "execution_count": 25,
   "metadata": {},
   "outputs": [],
   "source": [
    "rgb_pixs=rgb_pics_to_ndarray(resize_pics)"
   ]
  },
  {
   "cell_type": "code",
   "execution_count": 33,
   "metadata": {},
   "outputs": [],
   "source": [
    "def gray_pics_to_ndarray(gray_pics):\n",
    "    gray_pixs=[]\n",
    "    for pic in gray_pics:\n",
    "        pix=np.asarray(pic)\n",
    "        gray_pixs.append(pix)\n",
    "    return gray_pixs"
   ]
  },
  {
   "cell_type": "code",
   "execution_count": 35,
   "metadata": {},
   "outputs": [],
   "source": [
    "gray_pixs=gray_pics_to_ndarray(gray_pics)"
   ]
  },
  {
   "cell_type": "code",
   "execution_count": 36,
   "metadata": {},
   "outputs": [],
   "source": [
    "def load_pixs(size,path):\n",
    "    resize_pics=load_resize(size,path)\n",
    "    gray_pics=convert_to_gray(resize_pics)\n",
    "    rgb_pixs=rgb_pics_to_ndarray(resize_pics)\n",
    "    gray_pixs=gray_pics_to_ndarray(gray_pics)\n",
    "    return rgb_pixs,gray_pixs\n",
    "    \n",
    "    "
   ]
  },
  {
   "cell_type": "code",
   "execution_count": 69,
   "metadata": {},
   "outputs": [],
   "source": [
    "rgb,gray=load_pixs(64,\"dataset/forest\")"
   ]
  },
  {
   "cell_type": "code",
   "execution_count": 70,
   "metadata": {},
   "outputs": [],
   "source": [
    "import matplotlib.pyplot as plt\n",
    "def plot_rbg_pics(pixs):\n",
    "    for pix in pixs:\n",
    "        plt.imshow(pix)\n",
    "        plt.show()\n",
    "        \n",
    "    "
   ]
  },
  {
   "cell_type": "code",
   "execution_count": 71,
   "metadata": {},
   "outputs": [],
   "source": [
    "def nparray_to_image(pixs):\n",
    "    pics=[]\n",
    "    for pix in pixs:\n",
    "        img = Image.fromarray(pix, 'RGB')\n",
    "#         img = Image.fromarray(pix, 'L')  \n",
    "#for black and white pics\n",
    "        \n",
    "        pics.append(img)\n",
    "    return pics"
   ]
  },
  {
   "cell_type": "code",
   "execution_count": 72,
   "metadata": {},
   "outputs": [],
   "source": [
    "def plot_gray_pics(pixs):\n",
    "    for pix in pixs:\n",
    "        plt.imshow(pix,cmap=\"gray\")\n",
    "        plt.show()\n",
    "        \n",
    "    "
   ]
  },
  {
   "cell_type": "code",
   "execution_count": 73,
   "metadata": {},
   "outputs": [],
   "source": [
    "\n",
    "M = np.array([[0.412453, 0.357580, 0.180423],\n",
    "              [0.212671, 0.715160, 0.072169],\n",
    "              [0.019334, 0.119193, 0.950227]])\n",
    "def __rgb_to_xyz__(rgb_pixel):\n",
    "    xyz_pixel = np.dot(M, rgb_pixel.T)\n",
    "    xyz_pixel = xyz_pixel/255.0\n",
    "    xyz_pixel = xyz_pixel[0] / 0.95047, xyz_pixel[1] / 1.0, xyz_pixel[2] / 1.08883\n",
    "    return xyz_pixel\n",
    "\n",
    "def f(im_channel):\n",
    "    return np.power(im_channel, 1 / 3) if im_channel > 0.008856 else 7.787 * im_channel + 0.137931\n",
    "\n",
    "def __xyz_to_lab__(xyz_pixel):\n",
    "    F_XYZ = [f(x) for x in xyz_pixel]\n",
    "    L = 116 * F_XYZ[1] - 16 if xyz_pixel[1] > 0.008856 else 903.3 * xyz_pixel[1]\n",
    "    a = 500 * (F_XYZ[0] - F_XYZ[1])\n",
    "    b = 200 * (F_XYZ[1] - F_XYZ[2])\n",
    "    return (L, a, b)\n",
    "\n",
    "def rgb_to_lab(rgb_pixs, size):\n",
    "    lab_pixs=[]\n",
    "    for rgb_pix in rgb_pixs:\n",
    "        lab_pix = []\n",
    "        for y in range(size[1]):\n",
    "            row=[]\n",
    "            for x in range(size[0]):\n",
    "                xyz = __rgb_to_xyz__(np.array(rgb_pix[y][x]))\n",
    "                lab = __xyz_to_lab__(xyz)\n",
    "                row.append(lab)\n",
    "            lab_pix.append(row)\n",
    "        lab_pixs.append(lab_pix)\n",
    "    return lab_pixs\n"
   ]
  },
  {
   "cell_type": "code",
   "execution_count": 78,
   "metadata": {},
   "outputs": [],
   "source": [
    "lab_pixs=rgb_to_lab(rgb,(64,64))"
   ]
  },
  {
   "cell_type": "code",
   "execution_count": 84,
   "metadata": {},
   "outputs": [],
   "source": [
    "def get_lab_channels(lab_pixs, size):\n",
    "    lab_channel_pixs=[]\n",
    "    for lab_pix in lab_pixs:\n",
    "        channel_l=[]\n",
    "        channel_a=[]\n",
    "        channel_b=[]\n",
    "        for y in range(size[1]):\n",
    "            row_l=[]\n",
    "            row_a=[]\n",
    "            row_b=[]\n",
    "            for x in range(size[0]):\n",
    "                row_l.append(lab_pix[y][x][0])\n",
    "                row_a.append(lab_pix[y][x][1])\n",
    "                row_b.append(lab_pix[y][x][2])\n",
    "            channel_l.append(row_l)\n",
    "            channel_a.append(row_a)\n",
    "            channel_b.append(row_b)\n",
    "\n",
    "        lab_channel_pixs.append(np.array([channel_l, channel_a, channel_b]))\n",
    "    return lab_channel_pixs\n"
   ]
  },
  {
   "cell_type": "code",
   "execution_count": 85,
   "metadata": {},
   "outputs": [],
   "source": [
    "lab_channels_pixs = get_lab_channels(lab_pixs, (64,64))"
   ]
  },
  {
   "cell_type": "code",
   "execution_count": 86,
   "metadata": {},
   "outputs": [],
   "source": [
    "def get_features(lab_channels_pixs):\n",
    "    channel_l = []\n",
    "    channel_ab = []\n",
    "    for lab_channels_pix in lab_channels_pixs:\n",
    "        channel_l.append(np.array(lab_channels_pix[0]).reshape(1,-1))\n",
    "        channel_ab.append(np.append(np.array(lab_channels_pix[1]).reshape(1,-1), np.array(lab_channels_pix[2]).reshape(1,-1)))\n",
    "    return np.array(channel_l).reshape(-1,size[0]*size[1]), np.add(np.array(channel_ab), 128)"
   ]
  },
  {
   "cell_type": "code",
   "execution_count": 87,
   "metadata": {},
   "outputs": [],
   "source": [
    "size=(64,64)"
   ]
  },
  {
   "cell_type": "code",
   "execution_count": 89,
   "metadata": {},
   "outputs": [],
   "source": [
    "features, labels = get_features(lab_channels_pixs)  # L [0,100] A,B[0,255] #feature[array(4096),...] labels[array(8192)]"
   ]
  },
  {
   "cell_type": "code",
   "execution_count": 111,
   "metadata": {},
   "outputs": [],
   "source": [
    "train_test_split = np.random.rand(17) < 0.70"
   ]
  },
  {
   "cell_type": "code",
   "execution_count": 108,
   "metadata": {},
   "outputs": [],
   "source": [
    "train_x = features[train_test_split]\n",
    "train_y = labels[train_test_split]"
   ]
  },
  {
   "cell_type": "code",
   "execution_count": 114,
   "metadata": {},
   "outputs": [],
   "source": [
    "testbool=np.array([True,False,True,False])"
   ]
  },
  {
   "cell_type": "code",
   "execution_count": 115,
   "metadata": {},
   "outputs": [],
   "source": [
    "test=np.array([1,2,3,4,])"
   ]
  },
  {
   "cell_type": "code",
   "execution_count": null,
   "metadata": {},
   "outputs": [],
   "source": []
  },
  {
   "cell_type": "code",
   "execution_count": null,
   "metadata": {},
   "outputs": [],
   "source": []
  },
  {
   "cell_type": "code",
   "execution_count": null,
   "metadata": {},
   "outputs": [],
   "source": []
  }
 ],
 "metadata": {
  "kernelspec": {
   "display_name": "Python [conda env:root] *",
   "language": "python",
   "name": "conda-root-py"
  },
  "language_info": {
   "codemirror_mode": {
    "name": "ipython",
    "version": 3
   },
   "file_extension": ".py",
   "mimetype": "text/x-python",
   "name": "python",
   "nbconvert_exporter": "python",
   "pygments_lexer": "ipython3",
   "version": "3.7.3"
  }
 },
 "nbformat": 4,
 "nbformat_minor": 2
}
